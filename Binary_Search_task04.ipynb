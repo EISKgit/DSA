{
 "cells": [
  {
   "cell_type": "markdown",
   "id": "5cce2634-9fdc-4321-ba4a-7abe16b42f6d",
   "metadata": {},
   "source": [
    "Problem Example: Find Smallest Divisor Given a Threshold\n",
    "\n",
    "\n",
    "Given an array of integers arr and an integer threshold, return the smallest divisor such that the sum of all divisions rounded up is less than or equal to the threshold.\n",
    "\n",
    "arr = [1, 2, 5, 9]\n",
    "threshold = 6\n",
    "\n",
    "Try divisors from 1 to max(arr)\n",
    "\n",
    "Check sum:\n",
    "\n",
    "⌈1/5⌉ + ⌈2/5⌉ + ⌈5/5⌉ + ⌈9/5⌉ = 1 + 1 + 1 + 2 = 5 \n",
    "\n",
    "Answer: 5\n"
   ]
  },
  {
   "cell_type": "code",
   "execution_count": 1,
   "id": "509cc247-cfbc-4f3d-9720-ec53d7196b64",
   "metadata": {},
   "outputs": [],
   "source": [
    "import math\n",
    "def is_valid(arr, divisor, threshold):\n",
    "    return sum(math.ceil(num/divisor) for num in arr) <= threshold\n",
    "\n",
    "def smallest_divisor(arr, threshold):\n",
    "    left = 1\n",
    "    right =max(arr)\n",
    "    result = right\n",
    "\n",
    "    while left <= right:\n",
    "        mid = (left+right)//2\n",
    "\n",
    "        if is_valid(arr,mid,threshold):\n",
    "            result = mid\n",
    "            right = mid -1\n",
    "        else:\n",
    "            left = mid +1\n",
    "    return result"
   ]
  },
  {
   "cell_type": "code",
   "execution_count": 2,
   "id": "153fccdd-17d5-4023-99bd-9c7afa07925f",
   "metadata": {},
   "outputs": [
    {
     "name": "stdout",
     "output_type": "stream",
     "text": [
      "5\n"
     ]
    }
   ],
   "source": [
    "arr = [1, 2, 5, 9]\n",
    "threshold = 6\n",
    "print(smallest_divisor(arr, threshold)) "
   ]
  }
 ],
 "metadata": {
  "kernelspec": {
   "display_name": "Python 3 (ipykernel)",
   "language": "python",
   "name": "python3"
  },
  "language_info": {
   "codemirror_mode": {
    "name": "ipython",
    "version": 3
   },
   "file_extension": ".py",
   "mimetype": "text/x-python",
   "name": "python",
   "nbconvert_exporter": "python",
   "pygments_lexer": "ipython3",
   "version": "3.12.7"
  }
 },
 "nbformat": 4,
 "nbformat_minor": 5
}
