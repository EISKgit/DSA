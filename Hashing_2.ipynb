{
 "cells": [
  {
   "cell_type": "markdown",
   "id": "baec7b7d-d602-4c7d-8328-0273729eaf01",
   "metadata": {},
   "source": [
    "Task 2 of 4 – Two Sum Problem\n",
    "\n",
    "Problem Statement\n",
    "\n",
    "You are given an array of integers and a target sum.\n",
    "\n",
    "Return the indices of the two numbers that add up to the target.\n",
    "\n",
    "arr = [2, 7, 11, 15]\n",
    "target = 9\n",
    "\n",
    "✅ Output:\n",
    "(0, 1)   # Because arr[0] + arr[1] = 2 + 7 = 9\n",
    "\n",
    "Approach Using Hashing\n",
    "Create a hash map to store numbers and their indices\n",
    "\n",
    "For each element:\n",
    "Calculate the complement = target - element\n",
    "If complement exists in hash map → return indices\n",
    "Otherwise, store element in hash map"
   ]
  },
  {
   "cell_type": "code",
   "execution_count": 11,
   "id": "354773dc-83bd-4916-ad8d-fa89639110e0",
   "metadata": {},
   "outputs": [],
   "source": [
    "def two_sum(arr, target):\n",
    "    seen={}\n",
    "    for i, num in enumerate(arr):\n",
    "        compliment=target-num\n",
    "        if compliment in seen:\n",
    "            return(seen[compliment],i)\n",
    "        seen[num] = i\n",
    "    return -1"
   ]
  },
  {
   "cell_type": "code",
   "execution_count": 12,
   "id": "62e375f4-4c0e-49f5-9925-1a4432ad3cfe",
   "metadata": {},
   "outputs": [
    {
     "name": "stdout",
     "output_type": "stream",
     "text": [
      "(0, 1)\n"
     ]
    }
   ],
   "source": [
    "arr = [2, 7, 11, 15]\n",
    "target = 9\n",
    "res = two_sum(arr,target)\n",
    "print(res)"
   ]
  },
  {
   "cell_type": "code",
   "execution_count": 13,
   "id": "51bb842c-fe3d-472a-bcfc-394bd69e38c6",
   "metadata": {},
   "outputs": [
    {
     "name": "stdout",
     "output_type": "stream",
     "text": [
      "(0, 1)\n",
      "(1, 2)\n"
     ]
    }
   ],
   "source": [
    "print(two_sum([2, 7, 11, 15], 9))  # Expected (0, 1)\n",
    "print(two_sum([3, 2, 4], 6))       # Expected (1, 2)"
   ]
  },
  {
   "cell_type": "code",
   "execution_count": null,
   "id": "fdd14ec8-c59c-421a-8971-ff0f08bdbeff",
   "metadata": {},
   "outputs": [],
   "source": []
  }
 ],
 "metadata": {
  "kernelspec": {
   "display_name": "Python 3 (ipykernel)",
   "language": "python",
   "name": "python3"
  },
  "language_info": {
   "codemirror_mode": {
    "name": "ipython",
    "version": 3
   },
   "file_extension": ".py",
   "mimetype": "text/x-python",
   "name": "python",
   "nbconvert_exporter": "python",
   "pygments_lexer": "ipython3",
   "version": "3.12.7"
  }
 },
 "nbformat": 4,
 "nbformat_minor": 5
}
