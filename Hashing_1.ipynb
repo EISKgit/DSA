{
 "cells": [
  {
   "cell_type": "markdown",
   "id": "7318c6c8-8322-42ce-91d1-32f50437ed79",
   "metadata": {},
   "source": [
    "Hashing provides O(1) average time complexity for lookups and insertions, making it essential for problems involving frequency counting, duplicates, and fast search."
   ]
  },
  {
   "cell_type": "markdown",
   "id": "c2a5f28c-30bc-4361-8c3a-54fddd7899d6",
   "metadata": {},
   "source": [
    "Task 1 of 4 – Frequency Count\n",
    "\n",
    "Count the frequency of each fruit using:\n",
    "\n",
    "arr = [\"apple\", \"banana\", \"apple\", \"orange\", \"banana\", \"apple\"]\n",
    "\n",
    "Count the frequency of each fruit using:\n",
    "\n",
    "1. Counter from collections\n",
    "\n",
    "2. Manual dictionary counting\n",
    "\n",
    "✅ Expected Output:\n",
    "{'apple': 3, 'banana': 2, 'orange': 1}\n"
   ]
  },
  {
   "cell_type": "code",
   "execution_count": 2,
   "id": "9143cda8-db0b-4b9e-a420-4de4229833e3",
   "metadata": {},
   "outputs": [
    {
     "name": "stdout",
     "output_type": "stream",
     "text": [
      "Counter({'apple': 3, 'banana': 2, 'orange': 1})\n"
     ]
    }
   ],
   "source": [
    "#1. Counter from collections\n",
    "from collections import Counter\n",
    "\n",
    "arr = [\"apple\", \"banana\", \"apple\", \"orange\", \"banana\", \"apple\"]\n",
    "\n",
    "counter_arr=Counter(arr)\n",
    "print(counter_arr)"
   ]
  },
  {
   "cell_type": "code",
   "execution_count": 3,
   "id": "b235f3be-348c-4daa-ae3a-6625d8f8d1c7",
   "metadata": {},
   "outputs": [
    {
     "name": "stdout",
     "output_type": "stream",
     "text": [
      "{'apple': 3, 'banana': 2, 'orange': 1}\n"
     ]
    }
   ],
   "source": [
    "#2. Manual dictionary counting\n",
    "arr = [\"apple\", \"banana\", \"apple\", \"orange\", \"banana\", \"apple\"]\n",
    "\n",
    "d=dict()\n",
    "\n",
    "for fruit in arr:\n",
    "    if fruit not in d:\n",
    "        d[fruit] = 1\n",
    "    else:\n",
    "        d[fruit] += 1\n",
    "print(d)"
   ]
  }
 ],
 "metadata": {
  "kernelspec": {
   "display_name": "Python 3 (ipykernel)",
   "language": "python",
   "name": "python3"
  },
  "language_info": {
   "codemirror_mode": {
    "name": "ipython",
    "version": 3
   },
   "file_extension": ".py",
   "mimetype": "text/x-python",
   "name": "python",
   "nbconvert_exporter": "python",
   "pygments_lexer": "ipython3",
   "version": "3.12.7"
  }
 },
 "nbformat": 4,
 "nbformat_minor": 5
}
