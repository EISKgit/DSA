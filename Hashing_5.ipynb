{
 "cells": [
  {
   "cell_type": "markdown",
   "id": "83c92fe1-522c-47e8-9507-20e3c516587b",
   "metadata": {},
   "source": [
    "Q3. [Coding]\n",
    "Implement a function that returns the first duplicate number in an array.\n",
    "If no duplicates exist, return -1.\n",
    "\n",
    "first_duplicate([3, 1, 4, 2, 1, 5]) → 1  \n",
    "first_duplicate([1, 2, 3, 4])       → -1\n"
   ]
  },
  {
   "cell_type": "code",
   "execution_count": 16,
   "id": "48b1a0dc-4666-40c5-8999-c3738a761aad",
   "metadata": {},
   "outputs": [],
   "source": [
    "def first_duplicate(arr):\n",
    "    if not arr:\n",
    "        return -1\n",
    "    seen=set()\n",
    "    for item in arr:\n",
    "        if item in seen:\n",
    "            return item\n",
    "        seen.add(item)\n",
    "    return -1"
   ]
  },
  {
   "cell_type": "code",
   "execution_count": 17,
   "id": "6257fc11-b8b2-4001-8dfe-3fc5497cc316",
   "metadata": {},
   "outputs": [
    {
     "name": "stdout",
     "output_type": "stream",
     "text": [
      "3\n"
     ]
    }
   ],
   "source": [
    "print(first_duplicate([3, 1, 4,2,3, 5]))"
   ]
  }
 ],
 "metadata": {
  "kernelspec": {
   "display_name": "Python 3 (ipykernel)",
   "language": "python",
   "name": "python3"
  },
  "language_info": {
   "codemirror_mode": {
    "name": "ipython",
    "version": 3
   },
   "file_extension": ".py",
   "mimetype": "text/x-python",
   "name": "python",
   "nbconvert_exporter": "python",
   "pygments_lexer": "ipython3",
   "version": "3.12.7"
  }
 },
 "nbformat": 4,
 "nbformat_minor": 5
}
