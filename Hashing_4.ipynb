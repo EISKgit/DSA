{
 "cells": [
  {
   "cell_type": "code",
   "execution_count": 1,
   "id": "364a6e1b-93dc-4c16-a99a-72f9a8526a20",
   "metadata": {},
   "outputs": [],
   "source": [
    "# Task 4 of 4 – Longest Consecutive Sequence\n",
    "# Problem Statement\n",
    "# Given an unsorted array of integers, find the length of the longest consecutive elements sequence.\n",
    "\n",
    "# You must solve it in O(n) time.\n",
    "\n",
    "\n",
    "# Example:\n",
    "# arr = [100, 4, 200, 1, 3, 2]\n",
    "# Output: 4\n",
    "# # Because [1, 2, 3, 4] is the longest consecutive sequence\n",
    "\n",
    "# Approach Using Hash Set\n",
    "\n",
    "# Put all numbers into a set for O(1) lookups.  \n",
    "# Loop through the array:\n",
    "#     Only start counting if the current number is the start of a sequence (num - 1 not in set)\n",
    "#     Expand forward while num + 1 is in the set\n",
    "#     Track the max length\n",
    "# Return the max length"
   ]
  },
  {
   "cell_type": "code",
   "execution_count": 13,
   "id": "3f87fd8d-918e-42ce-86e8-72a8ad313332",
   "metadata": {},
   "outputs": [],
   "source": [
    "def longest_consecutive(arr):\n",
    "    max_length = 0\n",
    "    st=set(arr)\n",
    "    for num in st:\n",
    "\n",
    "        if num -1 not in st:\n",
    "\n",
    "            current_length = 1\n",
    "            current_num =num\n",
    "\n",
    "            while (current_num + 1) in st:\n",
    "                current_num = current_num +1\n",
    "                current_length +=1\n",
    "            max_length=max(max_length,current_length)\n",
    "        \n",
    "    return max_length  "
   ]
  },
  {
   "cell_type": "code",
   "execution_count": 14,
   "id": "31aaf0de-699a-4b66-ab3c-91f2a5ce14bf",
   "metadata": {},
   "outputs": [
    {
     "name": "stdout",
     "output_type": "stream",
     "text": [
      "4\n"
     ]
    }
   ],
   "source": [
    "arr = [100, 4, 200, 1, 3, 2]\n",
    "# Output: 4\n",
    "# Because [1, 2, 3, 4] is the longest consecutive sequence\n",
    "res = longest_consecutive(arr)\n",
    "print(res)"
   ]
  },
  {
   "cell_type": "code",
   "execution_count": null,
   "id": "b4ce8e53-134c-4f18-b5ce-0f3b6c8ed5e2",
   "metadata": {},
   "outputs": [],
   "source": []
  }
 ],
 "metadata": {
  "kernelspec": {
   "display_name": "Python 3 (ipykernel)",
   "language": "python",
   "name": "python3"
  },
  "language_info": {
   "codemirror_mode": {
    "name": "ipython",
    "version": 3
   },
   "file_extension": ".py",
   "mimetype": "text/x-python",
   "name": "python",
   "nbconvert_exporter": "python",
   "pygments_lexer": "ipython3",
   "version": "3.12.7"
  }
 },
 "nbformat": 4,
 "nbformat_minor": 5
}
