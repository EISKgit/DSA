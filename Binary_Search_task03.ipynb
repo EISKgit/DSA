{
 "cells": [
  {
   "cell_type": "markdown",
   "id": "149a4c81-9be0-4626-a7b5-ecf894f6eebf",
   "metadata": {},
   "source": [
    "🔹 Task 3: First and Last Occurrence\n",
    "\n",
    "Binary search pattern\n",
    "\n",
    "Return index range of a number in sorted array\n",
    "\n",
    "arr = [1, 2, 4, 4, 4, 5, 6]\n",
    "x = 4\n",
    "\n",
    "output - > [2, 4]  # Because 4 first appears at index 2 and last at index 4"
   ]
  },
  {
   "cell_type": "code",
   "execution_count": 17,
   "id": "70518b93-083e-4dae-b02c-7b9dd414adc9",
   "metadata": {},
   "outputs": [],
   "source": [
    "import bisect\n",
    "def first_last_occ_range(arr,x):\n",
    "    if not arr:\n",
    "        return [-1,-1]\n",
    "    left = bisect.bisect_left(arr,x)\n",
    "    right = bisect.bisect(arr,x)\n",
    "\n",
    "    if left == len(arr) or arr[left] != x:\n",
    "        return [-1, -1]\n",
    "\n",
    "    return [left,right-1]"
   ]
  },
  {
   "cell_type": "code",
   "execution_count": 18,
   "id": "f67d5b68-2455-4ac0-9b51-487d55849547",
   "metadata": {},
   "outputs": [
    {
     "name": "stdout",
     "output_type": "stream",
     "text": [
      "[2, 4]\n"
     ]
    }
   ],
   "source": [
    "print(first_last_occ_range(arr = [1, 2, 4, 4, 4, 5, 6], x = 4))"
   ]
  },
  {
   "cell_type": "code",
   "execution_count": null,
   "id": "70e1d1ba-164a-4b33-b9ae-a87817c9a43e",
   "metadata": {},
   "outputs": [],
   "source": []
  }
 ],
 "metadata": {
  "kernelspec": {
   "display_name": "Python 3 (ipykernel)",
   "language": "python",
   "name": "python3"
  },
  "language_info": {
   "codemirror_mode": {
    "name": "ipython",
    "version": 3
   },
   "file_extension": ".py",
   "mimetype": "text/x-python",
   "name": "python",
   "nbconvert_exporter": "python",
   "pygments_lexer": "ipython3",
   "version": "3.12.7"
  }
 },
 "nbformat": 4,
 "nbformat_minor": 5
}
