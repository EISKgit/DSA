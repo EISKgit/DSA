{
 "cells": [
  {
   "cell_type": "code",
   "execution_count": 15,
   "id": "ee79b097-08f3-450d-a873-e744eaf2754e",
   "metadata": {},
   "outputs": [],
   "source": [
    "def binary_search_recursive(arr,target,left,right):\n",
    "    if left > right:\n",
    "        return -1\n",
    "    mid = (left+right)//2\n",
    "    if arr[mid] == target:\n",
    "        return mid\n",
    "    elif target < arr[mid]:\n",
    "        return binary_search_recursive(arr,target,left,mid-1)\n",
    "    else:\n",
    "        return binary_search_recursive(arr,target,mid+1,right)\n",
    "    return -1"
   ]
  },
  {
   "cell_type": "code",
   "execution_count": 21,
   "id": "0ca944a9-df71-49b8-a74d-a7ec43dbf837",
   "metadata": {},
   "outputs": [],
   "source": [
    "import bisect\n",
    "def find_range_k(arr,x,k):\n",
    "    right = bisect.bisect_right(arr,x)\n",
    "    left = right -1\n",
    "    while k:\n",
    "        if left < 0:\n",
    "            right +=1\n",
    "        elif right >= len(arr):\n",
    "            left -= 1\n",
    "        elif abs(arr[left] - x) <= abs(arr[right] -x):\n",
    "            left -= 1\n",
    "        else:\n",
    "            right += 1\n",
    "        k -= 1  \n",
    "    return arr[left+1:right]"
   ]
  },
  {
   "cell_type": "code",
   "execution_count": 22,
   "id": "e0f0a83e-5ab7-48a5-a740-f971dfc44366",
   "metadata": {},
   "outputs": [
    {
     "name": "stdout",
     "output_type": "stream",
     "text": [
      "[1, 2, 3, 4]\n"
     ]
    }
   ],
   "source": [
    "arr = [1, 2, 3, 4, 5]\n",
    "k = 4\n",
    "x = 3\n",
    "# mid = binary_search_recursive(arr,x,0,len(arr)+1)\n",
    "res=find_range_k(arr,x,k)\n",
    "print(res)\n",
    "# Expected: [1, 2, 3, 4]"
   ]
  },
  {
   "cell_type": "code",
   "execution_count": null,
   "id": "a1b0cbaf-a96d-4478-b6f0-fb6b9b048814",
   "metadata": {},
   "outputs": [],
   "source": []
  }
 ],
 "metadata": {
  "kernelspec": {
   "display_name": "Python 3 (ipykernel)",
   "language": "python",
   "name": "python3"
  },
  "language_info": {
   "codemirror_mode": {
    "name": "ipython",
    "version": 3
   },
   "file_extension": ".py",
   "mimetype": "text/x-python",
   "name": "python",
   "nbconvert_exporter": "python",
   "pygments_lexer": "ipython3",
   "version": "3.12.7"
  }
 },
 "nbformat": 4,
 "nbformat_minor": 5
}
