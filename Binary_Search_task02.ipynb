{
 "cells": [
  {
   "cell_type": "markdown",
   "id": "fa005ed4-0c76-4a02-b702-aaa0d9574f86",
   "metadata": {},
   "source": [
    "🔹 Task 2: Lower and Upper Bound using bisect\n",
    "\n",
    "bisect_left, bisect_right\n",
    "\n",
    "How to count frequency in sorted array efficiently\n",
    "\n",
    "arr = [1, 2, 4, 4, 4, 5, 6]\n",
    "x = 4"
   ]
  },
  {
   "cell_type": "code",
   "execution_count": 1,
   "id": "acac1e9e-6128-4f45-932e-35f6d5a8668c",
   "metadata": {},
   "outputs": [],
   "source": [
    "import bisect\n",
    "\n",
    "def cnt_freq_sorted_arr(arr,x):\n",
    "    if not arr:\n",
    "        return -1\n",
    "\n",
    "    left = bisect.bisect_left(arr,x)\n",
    "    right = bisect.bisect(arr,x)\n",
    "\n",
    "    cnt= right-left\n",
    "    return cnt"
   ]
  },
  {
   "cell_type": "code",
   "execution_count": 4,
   "id": "b331a99f-b1a0-4850-88c8-b9de71771066",
   "metadata": {},
   "outputs": [
    {
     "name": "stdout",
     "output_type": "stream",
     "text": [
      "3\n"
     ]
    }
   ],
   "source": [
    "arr = [1, 2, 4, 4, 4, 5, 6]\n",
    "x = 4\n",
    "res = cnt_freq_sorted_arr(arr,x)\n",
    "print(res)"
   ]
  },
  {
   "cell_type": "code",
   "execution_count": null,
   "id": "8dc9738c-46ee-4b6f-a8b4-3580cb3b6bda",
   "metadata": {},
   "outputs": [],
   "source": []
  }
 ],
 "metadata": {
  "kernelspec": {
   "display_name": "Python 3 (ipykernel)",
   "language": "python",
   "name": "python3"
  },
  "language_info": {
   "codemirror_mode": {
    "name": "ipython",
    "version": 3
   },
   "file_extension": ".py",
   "mimetype": "text/x-python",
   "name": "python",
   "nbconvert_exporter": "python",
   "pygments_lexer": "ipython3",
   "version": "3.12.7"
  }
 },
 "nbformat": 4,
 "nbformat_minor": 5
}
