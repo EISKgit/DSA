{
 "cells": [
  {
   "cell_type": "markdown",
   "id": "605b6397-ffdc-4bb0-9277-e28dc74548ee",
   "metadata": {},
   "source": [
    "Task 3 of 4 – Check for Duplicates in O(n)\n",
    "\n",
    "Problem Statement\n",
    "\n",
    "Given an array, determine if any element appears more than once.\n",
    "\n",
    "Return True if duplicates exist, otherwise False.\n",
    "\n",
    "arr = [1, 2, 3, 4]\n",
    "Output: False\n",
    "\n",
    "arr = [1, 2, 3, 1]\n",
    "Output: True\n",
    "\n",
    "Approach Using Hash Set\n",
    "\n",
    "Create an empty set\n",
    "\n",
    "Loop through each element:\n",
    "\n",
    "    If element is already in set → return True\n",
    "    \n",
    "    Otherwise, add element to set\n",
    "    \n",
    "If loop ends with no duplicates → return False"
   ]
  },
  {
   "cell_type": "code",
   "execution_count": 3,
   "id": "dd14dc16-7e57-4a9f-bea3-1aee788038fc",
   "metadata": {},
   "outputs": [],
   "source": [
    "def has_duplicate(arr):\n",
    "    st=set()\n",
    "    for i in arr:\n",
    "        if i in st:\n",
    "            return True\n",
    "        else:\n",
    "            st.add(i)\n",
    "    return False"
   ]
  },
  {
   "cell_type": "code",
   "execution_count": 5,
   "id": "361100c6-3f35-4237-a1a9-d059d703f635",
   "metadata": {},
   "outputs": [
    {
     "name": "stdout",
     "output_type": "stream",
     "text": [
      "False\n",
      "True\n"
     ]
    }
   ],
   "source": [
    "arr1 = [1, 2, 3, 4]\n",
    "#Output: False\n",
    "\n",
    "arr2 = [1, 2, 3, 1]\n",
    "#Output: True\n",
    "\n",
    "print(has_duplicate(arr1))\n",
    "print(has_duplicate(arr2))"
   ]
  },
  {
   "cell_type": "code",
   "execution_count": 6,
   "id": "e0ae4474-1b9c-4b6d-8f63-8d1ea70eda68",
   "metadata": {},
   "outputs": [
    {
     "name": "stdout",
     "output_type": "stream",
     "text": [
      "False\n",
      "True\n",
      "False\n",
      "True\n"
     ]
    }
   ],
   "source": [
    "print(has_duplicate([1, 2, 3, 4]))     # False\n",
    "print(has_duplicate([1, 2, 3, 1]))     # True\n",
    "print(has_duplicate([\"a\", \"b\", \"c\"]))  # False\n",
    "print(has_duplicate([\"a\", \"b\", \"a\"]))  # True"
   ]
  }
 ],
 "metadata": {
  "kernelspec": {
   "display_name": "Python 3 (ipykernel)",
   "language": "python",
   "name": "python3"
  },
  "language_info": {
   "codemirror_mode": {
    "name": "ipython",
    "version": 3
   },
   "file_extension": ".py",
   "mimetype": "text/x-python",
   "name": "python",
   "nbconvert_exporter": "python",
   "pygments_lexer": "ipython3",
   "version": "3.12.7"
  }
 },
 "nbformat": 4,
 "nbformat_minor": 5
}
