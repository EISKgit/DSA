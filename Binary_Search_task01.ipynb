{
 "cells": [
  {
   "cell_type": "markdown",
   "id": "c3654a2f-a7d8-4d20-a0b5-8333ae7a6cc8",
   "metadata": {},
   "source": [
    "🔹 Task 1: Classic Binary Search\n",
    "\n",
    "Implement recursive & iterative binary search\n",
    "\n",
    "Use it on sorted arrays"
   ]
  },
  {
   "cell_type": "code",
   "execution_count": 1,
   "id": "4627e56c-30cd-431c-8660-033e59c82128",
   "metadata": {},
   "outputs": [],
   "source": [
    "#Iterative\n",
    "def binary_search(arr,target):\n",
    "    if not arr:\n",
    "        return -1\n",
    "\n",
    "    left = 0 \n",
    "    right = len(arr) -1\n",
    "\n",
    "    while left <= right:\n",
    "        mid = (left+right)//2\n",
    "\n",
    "        if arr[mid] == target:\n",
    "            return mid\n",
    "        if target < arr[mid]:\n",
    "            right = mid -1\n",
    "        else:\n",
    "            left = mid +1\n",
    "    return -1"
   ]
  },
  {
   "cell_type": "code",
   "execution_count": 5,
   "id": "a65455fd-ee1d-457d-8fd5-b3b02e76999a",
   "metadata": {},
   "outputs": [
    {
     "name": "stdout",
     "output_type": "stream",
     "text": [
      "-1\n"
     ]
    }
   ],
   "source": [
    "arr=[1,2,4,6,7,8,10,15]\n",
    "target=5\n",
    "res = binary_search(arr,target)\n",
    "print(res)"
   ]
  },
  {
   "cell_type": "code",
   "execution_count": 8,
   "id": "fa307d75-4cd5-43fa-8a29-19569bf3d09c",
   "metadata": {},
   "outputs": [],
   "source": [
    "#recursive\n",
    "def binary_search_recursive(arr,target,left,right):\n",
    "    if left > right:\n",
    "        return -1\n",
    "    mid = (left+right)//2\n",
    "    if arr[mid] == target:\n",
    "        return mid\n",
    "    elif target < arr[mid]:\n",
    "        return binary_search_recursive(arr,target,left,mid-1)\n",
    "    else:\n",
    "        return binary_search_recursive(arr,target,mid+1,right)\n",
    "    return -1"
   ]
  },
  {
   "cell_type": "code",
   "execution_count": 10,
   "id": "94d5fcc1-6b66-4446-911c-b5959b8fdf65",
   "metadata": {},
   "outputs": [
    {
     "name": "stdout",
     "output_type": "stream",
     "text": [
      "7\n"
     ]
    }
   ],
   "source": [
    "arr=[1,2,4,6,7,8,10,15]\n",
    "target=15\n",
    "res = binary_search_recursive(arr,target,0,len(arr)-1)\n",
    "print(res)"
   ]
  },
  {
   "cell_type": "code",
   "execution_count": null,
   "id": "a0d6935a-211e-4cd7-940b-54f5f99d4265",
   "metadata": {},
   "outputs": [],
   "source": []
  }
 ],
 "metadata": {
  "kernelspec": {
   "display_name": "Python 3 (ipykernel)",
   "language": "python",
   "name": "python3"
  },
  "language_info": {
   "codemirror_mode": {
    "name": "ipython",
    "version": 3
   },
   "file_extension": ".py",
   "mimetype": "text/x-python",
   "name": "python",
   "nbconvert_exporter": "python",
   "pygments_lexer": "ipython3",
   "version": "3.12.7"
  }
 },
 "nbformat": 4,
 "nbformat_minor": 5
}
